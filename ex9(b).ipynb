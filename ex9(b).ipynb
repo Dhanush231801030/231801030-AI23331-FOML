{
 "cells": [
  {
   "cell_type": "code",
   "execution_count": 3,
   "id": "48dafaf0-630c-40ec-b21e-6c131a167a59",
   "metadata": {},
   "outputs": [],
   "source": [
    "import numpy as np\n",
    "import pandas as pd\n",
    "from math import sqrt\n"
   ]
  },
  {
   "cell_type": "code",
   "execution_count": 5,
   "id": "6b25daa0-97f3-42d5-8150-b0128cf9d96d",
   "metadata": {},
   "outputs": [
    {
     "name": "stdout",
     "output_type": "stream",
     "text": [
      "   Id  SepalLengthCm  SepalWidthCm  PetalLengthCm  PetalWidthCm      Species\n",
      "0   1            5.1           3.5            1.4           0.2  Iris-setosa\n",
      "1   2            4.9           3.0            1.4           0.2  Iris-setosa\n",
      "2   3            4.7           3.2            1.3           0.2  Iris-setosa\n",
      "3   4            4.6           3.1            1.5           0.2  Iris-setosa\n",
      "4   5            5.0           3.6            1.4           0.2  Iris-setosa\n"
     ]
    }
   ],
   "source": [
    "data = pd.read_csv('Iris.csv')\n",
    "print(data.head(5))\n"
   ]
  },
  {
   "cell_type": "code",
   "execution_count": 6,
   "id": "a498ad22-3aa3-41c1-9428-c70cbd611ee9",
   "metadata": {},
   "outputs": [
    {
     "name": "stdout",
     "output_type": "stream",
     "text": [
      "    SepalLengthCm  SepalWidthCm  PetalLengthCm  PetalWidthCm          Species\n",
      "43            5.0           3.5            1.6           0.6      Iris-setosa\n",
      "96            5.7           2.9            4.2           1.3  Iris-versicolor\n",
      "22            4.6           3.6            1.0           0.2      Iris-setosa\n",
      "32            5.2           4.1            1.5           0.1      Iris-setosa\n",
      "37            4.9           3.1            1.5           0.1      Iris-setosa\n",
      "Train_Shape:  (105, 5)\n",
      "Test_Shape:  (45, 5)\n"
     ]
    }
   ],
   "source": [
    "req_data = data.iloc[:, 1:]\n",
    "shuffle_index = np.random.permutation(req_data.shape[0])\n",
    "req_data = req_data.iloc[shuffle_index]\n",
    "print(req_data.head(5))\n",
    "train_size = int(req_data.shape[0] * 0.7)\n",
    "train_df = req_data.iloc[:train_size, :]\n",
    "test_df = req_data.iloc[train_size:, :]\n",
    "train = train_df.values\n",
    "test = test_df.values\n",
    "y_true = test[:, -1]\n",
    "print('Train_Shape: ', train_df.shape)\n",
    "print('Test_Shape: ', test_df.shape)\n"
   ]
  },
  {
   "cell_type": "code",
   "execution_count": 7,
   "id": "96d5f35a-f898-476f-9d6d-31cf225f15a4",
   "metadata": {},
   "outputs": [],
   "source": [
    "def euclidean_distance(x_test, x_train):\n",
    "    distance = 0\n",
    "    for i in range(len(x_test) - 1):\n",
    "        distance += (x_test[i] - x_train[i]) ** 2\n",
    "    return sqrt(distance)\n"
   ]
  },
  {
   "cell_type": "code",
   "execution_count": 8,
   "id": "4804c834-2f37-4021-b019-76f722f4a69c",
   "metadata": {},
   "outputs": [],
   "source": [
    "def get_neighbors(x_test, x_train, num_neighbors):\n",
    "    distances = []\n",
    "    data = []\n",
    "    for i in x_train:\n",
    "        distances.append(euclidean_distance(x_test, i))\n",
    "        data.append(i)\n",
    "    distances = np.array(distances)\n",
    "    data = np.array(data)\n",
    "    sort_indexes = distances.argsort()\n",
    "    data = data[sort_indexes]\n",
    "    return data[:num_neighbors]\n"
   ]
  },
  {
   "cell_type": "code",
   "execution_count": 9,
   "id": "4b4c9a1d-f38d-4179-8e8a-bd0990ea6fc6",
   "metadata": {},
   "outputs": [],
   "source": [
    "def prediction(x_test, x_train, num_neighbors):\n",
    "    classes = []\n",
    "    neighbors = get_neighbors(x_test, x_train, num_neighbors)\n",
    "    for i in neighbors:\n",
    "        classes.append(i[-1])\n",
    "    predicted = max(classes, key=classes.count)\n",
    "    return predicted\n"
   ]
  },
  {
   "cell_type": "code",
   "execution_count": 10,
   "id": "4c0eebf6-a2eb-4a94-a7ee-56e72785ad51",
   "metadata": {},
   "outputs": [
    {
     "name": "stdout",
     "output_type": "stream",
     "text": [
      "Accuracy: 0.9777777777777777\n"
     ]
    },
    {
     "data": {
      "text/html": [
       "<div>\n",
       "<style scoped>\n",
       "    .dataframe tbody tr th:only-of-type {\n",
       "        vertical-align: middle;\n",
       "    }\n",
       "\n",
       "    .dataframe tbody tr th {\n",
       "        vertical-align: top;\n",
       "    }\n",
       "\n",
       "    .dataframe thead th {\n",
       "        text-align: right;\n",
       "    }\n",
       "</style>\n",
       "<table border=\"1\" class=\"dataframe\">\n",
       "  <thead>\n",
       "    <tr style=\"text-align: right;\">\n",
       "      <th></th>\n",
       "      <th>SepalLengthCm</th>\n",
       "      <th>SepalWidthCm</th>\n",
       "      <th>PetalLengthCm</th>\n",
       "      <th>PetalWidthCm</th>\n",
       "      <th>Species</th>\n",
       "    </tr>\n",
       "  </thead>\n",
       "  <tbody>\n",
       "    <tr>\n",
       "      <th>73</th>\n",
       "      <td>6.1</td>\n",
       "      <td>2.8</td>\n",
       "      <td>4.7</td>\n",
       "      <td>1.2</td>\n",
       "      <td>Iris-versicolor</td>\n",
       "    </tr>\n",
       "    <tr>\n",
       "      <th>125</th>\n",
       "      <td>7.2</td>\n",
       "      <td>3.2</td>\n",
       "      <td>6.0</td>\n",
       "      <td>1.8</td>\n",
       "      <td>Iris-virginica</td>\n",
       "    </tr>\n",
       "    <tr>\n",
       "      <th>13</th>\n",
       "      <td>4.3</td>\n",
       "      <td>3.0</td>\n",
       "      <td>1.1</td>\n",
       "      <td>0.1</td>\n",
       "      <td>Iris-setosa</td>\n",
       "    </tr>\n",
       "    <tr>\n",
       "      <th>84</th>\n",
       "      <td>5.4</td>\n",
       "      <td>3.0</td>\n",
       "      <td>4.5</td>\n",
       "      <td>1.5</td>\n",
       "      <td>Iris-versicolor</td>\n",
       "    </tr>\n",
       "    <tr>\n",
       "      <th>131</th>\n",
       "      <td>7.9</td>\n",
       "      <td>3.8</td>\n",
       "      <td>6.4</td>\n",
       "      <td>2.0</td>\n",
       "      <td>Iris-virginica</td>\n",
       "    </tr>\n",
       "  </tbody>\n",
       "</table>\n",
       "</div>"
      ],
      "text/plain": [
       "     SepalLengthCm  SepalWidthCm  PetalLengthCm  PetalWidthCm          Species\n",
       "73             6.1           2.8            4.7           1.2  Iris-versicolor\n",
       "125            7.2           3.2            6.0           1.8   Iris-virginica\n",
       "13             4.3           3.0            1.1           0.1      Iris-setosa\n",
       "84             5.4           3.0            4.5           1.5  Iris-versicolor\n",
       "131            7.9           3.8            6.4           2.0   Iris-virginica"
      ]
     },
     "execution_count": 10,
     "metadata": {},
     "output_type": "execute_result"
    }
   ],
   "source": [
    "def accuracy(y_true, y_pred):\n",
    "    num_correct = 0\n",
    "    for i in range(len(y_true)):\n",
    "        if y_true[i] == y_pred[i]:\n",
    "            num_correct += 1\n",
    "    return num_correct / len(y_true)\n",
    "y_pred = []\n",
    "for i in test:\n",
    "    y_pred.append(prediction(i, train, 5))\n",
    "acc = accuracy(y_true, y_pred)\n",
    "print(f'Accuracy: {acc}')\n",
    "test_df.sample(5)"
   ]
  },
  {
   "cell_type": "code",
   "execution_count": null,
   "id": "047ae6af-6393-44b8-a168-12eac88458de",
   "metadata": {},
   "outputs": [],
   "source": []
  }
 ],
 "metadata": {
  "kernelspec": {
   "display_name": "Python 3 (ipykernel)",
   "language": "python",
   "name": "python3"
  },
  "language_info": {
   "codemirror_mode": {
    "name": "ipython",
    "version": 3
   },
   "file_extension": ".py",
   "mimetype": "text/x-python",
   "name": "python",
   "nbconvert_exporter": "python",
   "pygments_lexer": "ipython3",
   "version": "3.12.4"
  }
 },
 "nbformat": 4,
 "nbformat_minor": 5
}
