{
 "cells": [
  {
   "cell_type": "code",
   "execution_count": 16,
   "id": "7c3a25f2-6863-4f11-84c5-ec66a14aba38",
   "metadata": {},
   "outputs": [
    {
     "name": "stdin",
     "output_type": "stream",
     "text": [
      "Enter the year for prediction :  2500\n"
     ]
    },
    {
     "name": "stdout",
     "output_type": "stream",
     "text": [
      "\n",
      "Predictions for the year 2500:\n",
      "Population: 266.48 Billion\n",
      "Male Population: 121.99 Billion\n",
      "Female Population: 144.49 Billion\n",
      "Sex Ratio: 84.42\n"
     ]
    }
   ],
   "source": [
    "# Import necessary libraries\n",
    "import pandas as pd\n",
    "import numpy as np\n",
    "from sklearn.model_selection import train_test_split\n",
    "from sklearn.preprocessing import PolynomialFeatures\n",
    "from sklearn.linear_model import LinearRegression\n",
    "from sklearn.metrics import mean_squared_error\n",
    "import matplotlib.pyplot as plt\n",
    "\n",
    "# 1. Define the dataset as a dictionary\n",
    "\n",
    "df = pd.read_csv(\"correct_population.csv\")\n",
    "\n",
    "# 3. Prepare the features (X) and target variables (y)\n",
    "X = df[['year']].values\n",
    "y_population = df['population'].values\n",
    "y_male_population = df['male population'].values\n",
    "y_female_population = df['female population'].values\n",
    "y_sex_ratio = df['sex ratio'].values\n",
    "\n",
    "# 4. Split the data into training and testing sets (80% for training, 20% for testing)\n",
    "X_train, X_test, y_train_pop, y_test_pop = train_test_split(X, y_population, test_size=0.2, random_state=42)\n",
    "_, _, y_train_male, y_test_male = train_test_split(X, y_male_population, test_size=0.2, random_state=42)\n",
    "_, _, y_train_female, y_test_female = train_test_split(X, y_female_population, test_size=0.2, random_state=42)\n",
    "_, _, y_train_sex, y_test_sex = train_test_split(X, y_sex_ratio, test_size=0.2, random_state=42)\n",
    "\n",
    "# 5. Initialize Polynomial Features and Linear Regression models\n",
    "poly = PolynomialFeatures(degree=2)\n",
    "X_poly_train = poly.fit_transform(X_train)\n",
    "X_poly_test = poly.transform(X_test)\n",
    "\n",
    "# Linear regression models for each target\n",
    "model_population = LinearRegression()\n",
    "model_male_population = LinearRegression()\n",
    "model_female_population = LinearRegression()\n",
    "model_sex_ratio = LinearRegression()\n",
    "\n",
    "# 6. Train the models\n",
    "model_population.fit(X_poly_train, y_train_pop)\n",
    "model_male_population.fit(X_poly_train, y_train_male)\n",
    "model_female_population.fit(X_poly_train, y_train_female)\n",
    "model_sex_ratio.fit(X_poly_train, y_train_sex)\n",
    "\n",
    "# 7. User input for the year\n",
    "year_input = int(input(\"Enter the year for prediction : \"))\n",
    "\n",
    "# 8. Make predictions for the input year\n",
    "year_input_array = np.array([[year_input]])\n",
    "year_input_poly = poly.transform(year_input_array)\n",
    "\n",
    "pop_prediction = model_population.predict(year_input_poly)[0]\n",
    "male_pop_prediction = model_male_population.predict(year_input_poly)[0]\n",
    "female_pop_prediction = model_female_population.predict(year_input_poly)[0]\n",
    "sex_ratio_prediction = model_sex_ratio.predict(year_input_poly)[0]\n",
    "total=male_pop_prediction+female_pop_prediction\n",
    "# 9. Display the predictions\n",
    "print(f\"\\nPredictions for the year {year_input}:\")\n",
    "print(f\"Population: {total:.2f} Billion\")\n",
    "print(f\"Male Population: {male_pop_prediction:.2f} Billion\")\n",
    "print(f\"Female Population: {female_pop_prediction:.2f} Billion\")\n",
    "print(f\"Sex Ratio: {100*(male_pop_prediction/female_pop_prediction):.2f}\")\n"
   ]
  },
  {
   "cell_type": "code",
   "execution_count": null,
   "id": "a84ba3a1-8a44-4c22-9304-451cd5306ecd",
   "metadata": {},
   "outputs": [],
   "source": []
  }
 ],
 "metadata": {
  "kernelspec": {
   "display_name": "Python 3 (ipykernel)",
   "language": "python",
   "name": "python3"
  },
  "language_info": {
   "codemirror_mode": {
    "name": "ipython",
    "version": 3
   },
   "file_extension": ".py",
   "mimetype": "text/x-python",
   "name": "python",
   "nbconvert_exporter": "python",
   "pygments_lexer": "ipython3",
   "version": "3.12.4"
  }
 },
 "nbformat": 4,
 "nbformat_minor": 5
}
